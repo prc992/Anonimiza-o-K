{
 "cells": [
  {
   "cell_type": "code",
   "execution_count": 1,
   "metadata": {},
   "outputs": [],
   "source": [
    "import pandas as pd"
   ]
  },
  {
   "cell_type": "code",
   "execution_count": 2,
   "metadata": {},
   "outputs": [
    {
     "name": "stderr",
     "output_type": "stream",
     "text": [
      "/Users/paulocordeiro/opt/anaconda3/lib/python3.7/site-packages/IPython/core/interactiveshell.py:3063: DtypeWarning: Columns (0,5,6,7,8,9,10,11,13,14,15,16,18,19,20,21,22,23,24,25,26,27,28,29,30,31,32,33,34,35,36,37,38,39,40,41,42,43,44,47,49,50,51,52,53,54,55,56,58,59,60,61) have mixed types.Specify dtype option on import or set low_memory=False.\n",
      "  interactivity=interactivity, compiler=compiler, result=result)\n"
     ]
    }
   ],
   "source": [
    "# Carrega o dataset\n",
    "#df = pd.read_csv(\"dados/teste2.csv\", encoding = 'utf-8')\n",
    "df = pd.read_csv(\"dados/Dataset_Covid_CE.csv\", encoding = 'utf-8')"
   ]
  },
  {
   "cell_type": "code",
   "execution_count": 3,
   "metadata": {},
   "outputs": [],
   "source": [
    "todasColunas = df.columns.to_list()"
   ]
  },
  {
   "cell_type": "code",
   "execution_count": 4,
   "metadata": {},
   "outputs": [],
   "source": [
    "listaCampos = [\"dataNascimento\", \"sexoCaso\", \"racaCor\", \"municipioCaso\",\"comorbidadeAsmaSivep\",\"comorbidadeCardiovascularSivep\",\"resultadoFinalExame\"]"
   ]
  },
  {
   "cell_type": "code",
   "execution_count": 5,
   "metadata": {},
   "outputs": [],
   "source": [
    "def criaIdentificador(row,ListaCampos):\n",
    "    strID = \"\"\n",
    "    for x in ListaCampos:\n",
    "        strID = strID + str(row [x])\n",
    "    return strID"
   ]
  },
  {
   "cell_type": "code",
   "execution_count": 6,
   "metadata": {},
   "outputs": [],
   "source": [
    "def criaContador(df,campo):\n",
    "    dfInterno = df[campo].value_counts().to_frame('Contador')\n",
    "    dfInterno[campo] = dfInterno.index\n",
    "    strQtd = 'qtd-' + campo\n",
    "\n",
    "    try:\n",
    "        df = df.drop(columns=[strQtd])\n",
    "    except:\n",
    "        pass\n",
    "    \n",
    "    dfInterno.columns = [strQtd,campo]\n",
    "    return df.merge(dfInterno, left_on=campo, right_on=campo)"
   ]
  },
  {
   "cell_type": "code",
   "execution_count": 7,
   "metadata": {},
   "outputs": [],
   "source": [
    "def suprimeCampo(row,nomeCampo,k):\n",
    "    retorno = row[nomeCampo]\n",
    "    if row['qtd-id'] < k:\n",
    "        retorno = '*'\n",
    "        \n",
    "    return retorno"
   ]
  },
  {
   "cell_type": "code",
   "execution_count": 8,
   "metadata": {},
   "outputs": [],
   "source": [
    "def retornaKAnom (df,strBlank):\n",
    "    df1 = df[df[\"id\"]!=strBlank]\n",
    "    dfInterno = df1['qtd-id'].value_counts().to_frame('Contador')\n",
    "    dfInterno['qtd-id'] = dfInterno.index\n",
    "    return min(dfInterno['qtd-id'])"
   ]
  },
  {
   "cell_type": "code",
   "execution_count": 9,
   "metadata": {},
   "outputs": [],
   "source": [
    "def anonimizadfk(df,colunasRemovidas,k):\n",
    "    for x in listaCampos:\n",
    "        df = criaContador(df,'id')\n",
    "        dfk = retornaKAnom (df,strBlank)\n",
    "        if dfk<=k:\n",
    "            #print(x,dfk)\n",
    "            df[x] = df.apply(suprimeCampo, axis=1,args=(x,k,))\n",
    "            df['id'] = df.apply(criaIdentificador, axis=1,args=(listaCampos,))\n",
    "            df = criaContador(df,'id')\n",
    "        else:\n",
    "            break\n",
    "\n",
    "    dffinal = df.drop(columns=colunasRemovidas)\n",
    "    strFile = 'Dataset_Covid_CE_' + str(k) + 'K.csv'\n",
    "    dffinal.to_csv(strFile,index=False)"
   ]
  },
  {
   "cell_type": "code",
   "execution_count": 10,
   "metadata": {},
   "outputs": [
    {
     "name": "stdout",
     "output_type": "stream",
     "text": [
      "CPU times: user 3min 1s, sys: 1.19 s, total: 3min 3s\n",
      "Wall time: 3min 3s\n"
     ]
    }
   ],
   "source": [
    "%%time\n",
    "df['id'] = df.apply(criaIdentificador, axis=1,args=(listaCampos,))"
   ]
  },
  {
   "cell_type": "code",
   "execution_count": 11,
   "metadata": {},
   "outputs": [
    {
     "name": "stdout",
     "output_type": "stream",
     "text": [
      "CPU times: user 11.5 s, sys: 1.58 s, total: 13 s\n",
      "Wall time: 13 s\n"
     ]
    }
   ],
   "source": [
    "%%time\n",
    "df = criaContador(df,'id')"
   ]
  },
  {
   "cell_type": "code",
   "execution_count": 13,
   "metadata": {},
   "outputs": [],
   "source": [
    "klist = [2,4,8,16]\n",
    "strBlank = len(listaCampos)*'*'\n",
    "colunasRemovidas = [item for item in todasColunas if item not in listaCampos]"
   ]
  },
  {
   "cell_type": "code",
   "execution_count": 14,
   "metadata": {},
   "outputs": [
    {
     "name": "stdout",
     "output_type": "stream",
     "text": [
      "Anonimizando dataset :  2 k\n",
      "Anonimizando dataset :  4 k\n",
      "Anonimizando dataset :  8 k\n",
      "Anonimizando dataset :  16 k\n",
      "CPU times: user 2h 6min, sys: 3min 7s, total: 2h 9min 8s\n",
      "Wall time: 2h 9min 10s\n"
     ]
    }
   ],
   "source": [
    "%%time\n",
    "for k in klist:\n",
    "    print('Anonimizando dataset : ',k,\"k\")\n",
    "    anonimizadfk(df,colunasRemovidas,k)"
   ]
  }
 ],
 "metadata": {
  "kernelspec": {
   "display_name": "Python 3",
   "language": "python",
   "name": "python3"
  },
  "language_info": {
   "codemirror_mode": {
    "name": "ipython",
    "version": 3
   },
   "file_extension": ".py",
   "mimetype": "text/x-python",
   "name": "python",
   "nbconvert_exporter": "python",
   "pygments_lexer": "ipython3",
   "version": "3.7.6"
  }
 },
 "nbformat": 4,
 "nbformat_minor": 4
}
