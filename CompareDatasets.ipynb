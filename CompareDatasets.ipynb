{
 "cells": [
  {
   "cell_type": "code",
   "execution_count": 52,
   "metadata": {},
   "outputs": [],
   "source": [
    "import pandas as pd\n",
    "import matplotlib.pyplot as plt"
   ]
  },
  {
   "cell_type": "code",
   "execution_count": 4,
   "metadata": {},
   "outputs": [
    {
     "name": "stderr",
     "output_type": "stream",
     "text": [
      "/Users/paulocordeiro/opt/anaconda3/lib/python3.7/site-packages/IPython/core/interactiveshell.py:3063: DtypeWarning: Columns (0,5,6,7,8,9,10,11,13,14,15,16,18,19,20,21,22,23,24,25,26,27,28,29,30,31,32,33,34,35,36,37,38,39,40,41,42,43,44,47,49,50,51,52,53,54,55,56,58,59,60,61) have mixed types.Specify dtype option on import or set low_memory=False.\n",
      "  interactivity=interactivity, compiler=compiler, result=result)\n"
     ]
    }
   ],
   "source": [
    "# Carrega o dataset\n",
    "#df = pd.read_csv(\"dados/teste2.csv\", encoding = 'utf-8')\n",
    "df = pd.read_csv(\"Dataset_Covid_CE_2K.csv\", encoding = 'utf-8')"
   ]
  },
  {
   "cell_type": "code",
   "execution_count": 37,
   "metadata": {},
   "outputs": [],
   "source": [
    "listaCamposSuprimidos = [\"dataNascimento\", \"sexoCaso\", \"racaCor\", \"municipioCaso\",\"comorbidadeAsmaSivep\",\"comorbidadeCardiovascularSivep\",\"resultadoFinalExame\"]"
   ]
  },
  {
   "cell_type": "code",
   "execution_count": 34,
   "metadata": {},
   "outputs": [],
   "source": [
    "def retonaTotalInfo(df):\n",
    "    qtd_linhas_total = df.shape[0]\n",
    "    qtd_colunas_total = df.shape[1]\n",
    "    return qtd_linhas_total * qtd_colunas_total"
   ]
  },
  {
   "cell_type": "code",
   "execution_count": 70,
   "metadata": {},
   "outputs": [],
   "source": [
    "def retonaTotalInfoRest(df):\n",
    "    qtd_linhas_total = df.shape[0]\n",
    "    qtd_colunas_total = len(listaCamposSuprimidos)\n",
    "    return qtd_linhas_total * qtd_colunas_total"
   ]
  },
  {
   "cell_type": "code",
   "execution_count": 71,
   "metadata": {},
   "outputs": [],
   "source": [
    "def retornaTotalCamposSup(df):\n",
    "    qtd_suprimidos = 0\n",
    "\n",
    "    for campo in listaCamposSuprimidos:\n",
    "        qtd_s = df[df[campo]==\"*\"].shape[0]\n",
    "        qtd_suprimidos = qtd_suprimidos + qtd_s\n",
    "\n",
    "    return qtd_suprimidos    "
   ]
  },
  {
   "cell_type": "code",
   "execution_count": 72,
   "metadata": {},
   "outputs": [],
   "source": [
    "def retornaPercInfoSup(strFile):\n",
    "    df = pd.read_csv(strFile, encoding = 'utf-8')\n",
    "    TotalInformacao = retonaTotalInfo(df)\n",
    "    qtd_suprimidos = retornaTotalCamposSup(df)\n",
    "    del(df)\n",
    "    return (qtd_suprimidos / TotalInformacao)"
   ]
  },
  {
   "cell_type": "code",
   "execution_count": 73,
   "metadata": {},
   "outputs": [],
   "source": [
    "def retornaPercInfoSupRest(strFile):\n",
    "    df = pd.read_csv(strFile, encoding = 'utf-8')\n",
    "    TotalInformacao = retonaTotalInfoRest(df)\n",
    "    qtd_suprimidos = retornaTotalCamposSup(df)\n",
    "    del(df)\n",
    "    return (qtd_suprimidos / TotalInformacao)"
   ]
  },
  {
   "cell_type": "code",
   "execution_count": 74,
   "metadata": {},
   "outputs": [
    {
     "name": "stderr",
     "output_type": "stream",
     "text": [
      "/Users/paulocordeiro/opt/anaconda3/lib/python3.7/site-packages/IPython/core/magic.py:187: DtypeWarning: Columns (0,5,6,7,8,9,10,11,13,14,15,16,18,19,20,21,22,23,24,25,26,27,28,29,30,31,32,33,34,35,36,37,38,39,40,41,42,43,44,47,49,50,51,52,53,54,55,56,58,59,60,61) have mixed types.Specify dtype option on import or set low_memory=False.\n",
      "  call = lambda f, *a, **k: f(*a, **k)\n"
     ]
    },
    {
     "name": "stdout",
     "output_type": "stream",
     "text": [
      "CPU times: user 46.2 s, sys: 6.03 s, total: 52.2 s\n",
      "Wall time: 1min 7s\n"
     ]
    }
   ],
   "source": [
    "%%time\n",
    "PercInfoSup2k = retornaPercInfoSup(\"Dataset_Covid_CE_2K.csv\")\n",
    "PercInfoSup4k = retornaPercInfoSup(\"Dataset_Covid_CE_4K.csv\")\n",
    "PercInfoSup8k = retornaPercInfoSup(\"Dataset_Covid_CE_8K.csv\")\n",
    "PercInfoSup16k = retornaPercInfoSup(\"Dataset_Covid_CE_16K.csv\")"
   ]
  },
  {
   "cell_type": "code",
   "execution_count": 75,
   "metadata": {},
   "outputs": [
    {
     "name": "stdout",
     "output_type": "stream",
     "text": [
      "CPU times: user 46 s, sys: 5.97 s, total: 52 s\n",
      "Wall time: 53.2 s\n"
     ]
    }
   ],
   "source": [
    "%%time\n",
    "PercInfoSup2kRest = retornaPercInfoSupRest(\"Dataset_Covid_CE_2K.csv\")\n",
    "PercInfoSup4kRest = retornaPercInfoSupRest(\"Dataset_Covid_CE_4K.csv\")\n",
    "PercInfoSup8kRest = retornaPercInfoSupRest(\"Dataset_Covid_CE_8K.csv\")\n",
    "PercInfoSup16kRest = retornaPercInfoSupRest(\"Dataset_Covid_CE_16K.csv\")"
   ]
  },
  {
   "cell_type": "code",
   "execution_count": 76,
   "metadata": {},
   "outputs": [],
   "source": [
    "PercInfoSup2kinvRest = 1-PercInfoSup2kRest\n",
    "PercInfoSup4kinvRest = 1-PercInfoSup4kRest\n",
    "PercInfoSup8kinvRest = 1-PercInfoSup8kRest\n",
    "PercInfoSup16kinvRest = 1-PercInfoSup16kRest"
   ]
  },
  {
   "cell_type": "code",
   "execution_count": 77,
   "metadata": {},
   "outputs": [],
   "source": [
    "percsinvRest = [PercInfoSup2kinvRest,PercInfoSup4kinvRest,PercInfoSup8kinvRest,PercInfoSup16kinvRest]\n",
    "percsRest = [PercInfoSup2kRest,PercInfoSup4kRest,PercInfoSup8kRest,PercInfoSup16kRest]"
   ]
  },
  {
   "cell_type": "code",
   "execution_count": 78,
   "metadata": {},
   "outputs": [
    {
     "data": {
      "image/png": "[encoded data removed]",
      "text/plain": [
       "<Figure size 432x288 with 1 Axes>"
      ]
     },
     "metadata": {
      "needs_background": "light"
     },
     "output_type": "display_data"
    }
   ],
   "source": [
    "fig = plt.figure()\n",
    "ax = fig.add_axes([0,0,1,1])\n",
    "langs = ['2k', '4k', '8k', '16k']\n",
    "students = percsRest\n",
    "ax.barh(langs,students)\n",
    "plt.show()"
   ]
  },
  {
   "cell_type": "code",
   "execution_count": 79,
   "metadata": {},
   "outputs": [
    {
     "data": {
      "image/png": "[encoded data removed]",
      "text/plain": [
       "<Figure size 432x288 with 1 Axes>"
      ]
     },
     "metadata": {
      "needs_background": "light"
     },
     "output_type": "display_data"
    }
   ],
   "source": [
    "labels = ['G1', 'G2', 'G3', 'G4']\n",
    "men_means = percsRest\n",
    "women_means = percsinvRest\n",
    "width = 0.35       # the width of the bars: can also be len(x) sequence\n",
    "\n",
    "fig, ax = plt.subplots()\n",
    "\n",
    "ax.bar(langs, men_means, width, label='Dados Suprimidos')\n",
    "ax.bar(langs, women_means, width, bottom=men_means, label='Dados Completos')\n",
    "\n",
    "ax.set_ylabel('Scores')\n",
    "ax.set_title('Scores by group and gender')\n",
    "ax.legend()\n",
    "\n",
    "plt.show()"
   ]
  },
  {
   "cell_type": "code",
   "execution_count": 65,
   "metadata": {},
   "outputs": [],
   "source": [
    "percs = [PercInfoSup2k,PercInfoSup4k,PercInfoSup8k,PercInfoSup16k]\n",
    "percsinv = [PercInfoSup2kinv,PercInfoSup4kinv,PercInfoSup8kinv,PercInfoSup16kinv]"
   ]
  },
  {
   "cell_type": "code",
   "execution_count": 57,
   "metadata": {},
   "outputs": [
    {
     "data": {
      "image/png": "[encoded data removed]",
      "text/plain": [
       "<Figure size 432x288 with 1 Axes>"
      ]
     },
     "metadata": {
      "needs_background": "light"
     },
     "output_type": "display_data"
    }
   ],
   "source": [
    "\n",
    "fig = plt.figure()\n",
    "ax = fig.add_axes([0,0,1,1])\n",
    "langs = ['2k', '4k', '8k', '16k']\n",
    "students = percs\n",
    "ax.barh(langs,students)\n",
    "plt.show()"
   ]
  },
  {
   "cell_type": "code",
   "execution_count": 69,
   "metadata": {},
   "outputs": [
    {
     "data": {
      "image/png": "[encoded data removed]",
      "text/plain": [
       "<Figure size 432x288 with 1 Axes>"
      ]
     },
     "metadata": {
      "needs_background": "light"
     },
     "output_type": "display_data"
    }
   ],
   "source": [
    "labels = ['G1', 'G2', 'G3', 'G4']\n",
    "men_means = percs\n",
    "women_means = percsinv\n",
    "width = 0.35       # the width of the bars: can also be len(x) sequence\n",
    "\n",
    "fig, ax = plt.subplots()\n",
    "\n",
    "ax.bar(langs, men_means, width, label='Dados Suprimidos')\n",
    "ax.bar(langs, women_means, width, bottom=men_means, label='Dados Completos')\n",
    "\n",
    "ax.set_ylabel('Scores')\n",
    "ax.set_title('Scores by group and gender')\n",
    "ax.legend()\n",
    "\n",
    "plt.show()"
   ]
  }
 ],
 "metadata": {
  "kernelspec": {
   "display_name": "Python 3",
   "language": "python",
   "name": "python3"
  },
  "language_info": {
   "codemirror_mode": {
    "name": "ipython",
    "version": 3
   },
   "file_extension": ".py",
   "mimetype": "text/x-python",
   "name": "python",
   "nbconvert_exporter": "python",
   "pygments_lexer": "ipython3",
   "version": "3.7.6"
  }
 },
 "nbformat": 4,
 "nbformat_minor": 4
}
